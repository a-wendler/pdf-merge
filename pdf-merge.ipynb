{
 "cells": [
  {
   "cell_type": "code",
   "execution_count": 18,
   "metadata": {},
   "outputs": [],
   "source": [
    "# script erstellt von chatgpt 3.5\n",
    "\n",
    "import os\n",
    "from PyPDF2 import PdfMerger\n",
    "\n",
    "def combine_pdfs_in_subfolders(root_folder):\n",
    "    # Create a PdfMerger object to combine PDFs\n",
    "    pdf_merger = PdfMerger()\n",
    "\n",
    "    # Get the folder name from the root folder path\n",
    "    folder_name = os.path.basename(root_folder)\n",
    "\n",
    "    # Traverse the subfolders\n",
    "    for foldername, subfolders, filenames in os.walk(root_folder):\n",
    "        for filename in filenames:\n",
    "            if filename.endswith(\".pdf\"):\n",
    "                bookmark = foldername.rsplit(\"\\\\\", 1)[-1] # der name des ordners, in dem die datei ursprünglich lag, wird als bookmark hinzugefügt\n",
    "                pdf_path = os.path.join(foldername, filename)\n",
    "                pdf_merger.append(pdf_path, outline_item=bookmark)\n",
    "\n",
    "    # Output PDF file name\n",
    "    output_pdf_filename = f\"{root_folder}\\{folder_name}.pdf\"\n",
    "\n",
    "    # Save the merged PDF to the root folder\n",
    "    pdf_merger.write(output_pdf_filename)\n",
    "    pdf_merger.close()\n",
    "\n",
    "\n",
    "if __name__ == \"__main__\":\n",
    "    # Specify the root folder containing subfolders with PDFs\n",
    "    root_folder_path = \"D:\\Rückgabeanordnung 2019\"\n",
    "\n",
    "    # Call the function to combine PDFs in subfolders with bookmarks\n",
    "    combine_pdfs_in_subfolders(root_folder_path)\n"
   ]
  }
 ],
 "metadata": {
  "kernelspec": {
   "display_name": "pdf-merge",
   "language": "python",
   "name": "python3"
  },
  "language_info": {
   "codemirror_mode": {
    "name": "ipython",
    "version": 3
   },
   "file_extension": ".py",
   "mimetype": "text/x-python",
   "name": "python",
   "nbconvert_exporter": "python",
   "pygments_lexer": "ipython3",
   "version": "3.11.2"
  },
  "orig_nbformat": 4
 },
 "nbformat": 4,
 "nbformat_minor": 2
}
